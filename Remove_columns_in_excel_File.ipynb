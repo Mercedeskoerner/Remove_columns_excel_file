{
  "nbformat": 4,
  "nbformat_minor": 0,
  "metadata": {
    "colab": {
      "provenance": []
    },
    "kernelspec": {
      "name": "python3",
      "display_name": "Python 3"
    },
    "language_info": {
      "name": "python"
    }
  },
  "cells": [
    {
      "cell_type": "code",
      "execution_count": null,
      "metadata": {
        "id": "em6B9dANiU9l"
      },
      "outputs": [],
      "source": [
        "from google.colab import drive\n",
        "drive.mount('/content/drive')"
      ]
    },
    {
      "cell_type": "code",
      "source": [
        "import os\n",
        "import pandas as pd\n",
        "import shutil\n",
        "import re"
      ],
      "metadata": {
        "id": "VQGwntNviekv"
      },
      "execution_count": null,
      "outputs": []
    },
    {
      "cell_type": "code",
      "source": [
        "def remove_columns_in_excel_file(file_path):\n",
        "    # Read the Excel file\n",
        "    df = pd.read_excel(file_path, engine='openpyxl')\n",
        "\n",
        "    # Delete columns A and B\n",
        "    df.drop(df.columns[[0, 1]], axis=1, inplace=True)\n",
        "\n",
        "    # Save the modified DataFrame back to the same Excel file\n",
        "    df.to_excel(file_path, index=False, engine='openpyxl')\n",
        "\n",
        "def process_files_in_folder(folder_path):\n",
        "    for root, dirs, files in os.walk(folder_path):\n",
        "        for file_name in files:\n",
        "            # Check if the file is an Excel file\n",
        "            if file_name.endswith('.xlsx') or file_name.endswith('.xls'):\n",
        "                file_path = os.path.join(root, file_name)\n",
        "                print(f\"Processing {file_path}\")\n",
        "                remove_columns_in_excel_file(file_path)\n",
        "                print(f\"Finished processing {file_path}\")\n",
        "\n",
        "if __name__ == '__main__':\n",
        "    folder_path = '/content/drive/MyDrive/Colab Notebooks/cost'  # Replace this with the path to your cost folder\n",
        "    process_files_in_folder(folder_path)"
      ],
      "metadata": {
        "id": "60fEV1YDiZ7O"
      },
      "execution_count": null,
      "outputs": []
    }
  ]
}